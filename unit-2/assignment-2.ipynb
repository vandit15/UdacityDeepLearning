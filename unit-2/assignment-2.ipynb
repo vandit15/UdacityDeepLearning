{
 "cells": [
  {
   "cell_type": "code",
   "execution_count": 1,
   "metadata": {
    "collapsed": false
   },
   "outputs": [
    {
     "name": "stdout",
     "output_type": "stream",
     "text": [
      "1.3.0\n"
     ]
    }
   ],
   "source": [
    "from __future__ import print_function\n",
    "import matplotlib.pyplot as plt\n",
    "import numpy as np\n",
    "import os\n",
    "import sys\n",
    "import tarfile\n",
    "from IPython.display import display, Image\n",
    "from scipy import ndimage\n",
    "from sklearn.linear_model import LogisticRegression\n",
    "from sklearn.cross_validation import train_test_split\n",
    "from six.moves.urllib.request import urlretrieve\n",
    "from six.moves import cPickle as pickle\n",
    "from six.moves import range\n",
    "from sklearn.metrics import confusion_matrix\n",
    "import tensorflow as tf\n",
    "print(tf.__version__)\n",
    "\n",
    "%matplotlib inline"
   ]
  },
  {
   "cell_type": "code",
   "execution_count": 2,
   "metadata": {
    "collapsed": true
   },
   "outputs": [],
   "source": [
    "## loading data from pickle files \n",
    "## again taking only 10000 samples because lack of hardware\n",
    "\n",
    "## NOTE: considering that pickle files are in unit-1 folder\n",
    "\n",
    "train_folders = ['../unit-1/notMNIST_large/A', '../unit-1/notMNIST_large/B', '../unit-1/notMNIST_large/C', \n",
    "                 '../unit-1/notMNIST_large/D', '../unit-1/notMNIST_large/E', '../unit-1/notMNIST_large/F', \n",
    "                 '../unit-1/notMNIST_large/G', '../unit-1/notMNIST_large/H', '../unit-1/notMNIST_large/I', '../unit-1/notMNIST_large/J']\n",
    "test_folders = ['../unit-1/notMNIST_small/A', '../unit-1/notMNIST_small/B', '../unit-1/notMNIST_small/C', \n",
    "                '../unit-1/notMNIST_small/D', '../unit-1/notMNIST_small/E', '../unit-1/notMNIST_small/F', \n",
    "                '../unit-1/notMNIST_small/G', '../unit-1/notMNIST_small/H', '../unit-1/notMNIST_small/I', '../unit-1/notMNIST_small/J']"
   ]
  },
  {
   "cell_type": "code",
   "execution_count": 3,
   "metadata": {
    "collapsed": true
   },
   "outputs": [],
   "source": [
    "train_datasets = []\n",
    "for folder in train_folders:\n",
    "  set_filename = folder + '.pickle'\n",
    "  train_datasets.append(set_filename)\n",
    "    \n",
    "test_datasets = []\n",
    "for folder in test_folders:\n",
    "  set_filename = folder + '.pickle'\n",
    "  test_datasets.append(set_filename)"
   ]
  },
  {
   "cell_type": "code",
   "execution_count": 4,
   "metadata": {
    "collapsed": false
   },
   "outputs": [
    {
     "name": "stdout",
     "output_type": "stream",
     "text": [
      "(10000, 28, 28)\n",
      "(10000, 28, 28)\n",
      "(10000, 28, 28)\n",
      "(10000, 28, 28)\n",
      "(10000, 28, 28)\n",
      "(10000, 28, 28)\n",
      "(10000, 28, 28)\n",
      "(10000, 28, 28)\n",
      "(10000, 28, 28)\n",
      "(10000, 28, 28)\n"
     ]
    }
   ],
   "source": [
    "### checking whether data is balanced across classes\n",
    "### using only 10000 samples per class because lack of powerful hardware\n",
    "train_dataset = []\n",
    "num=0\n",
    "for file in train_datasets:\n",
    "  f = open(file,\"rb\")\n",
    "  dataset = pickle.load(f)\n",
    "  num = num +1\n",
    "  train_dataset.append(dataset[0:10000,:,:])\n",
    "  print(train_dataset[num-1].shape)"
   ]
  },
  {
   "cell_type": "code",
   "execution_count": 5,
   "metadata": {
    "collapsed": false
   },
   "outputs": [
    {
     "name": "stdout",
     "output_type": "stream",
     "text": [
      "(1872, 28, 28)\n",
      "(1873, 28, 28)\n",
      "(1873, 28, 28)\n",
      "(1873, 28, 28)\n",
      "(1873, 28, 28)\n",
      "(1872, 28, 28)\n",
      "(1872, 28, 28)\n",
      "(1872, 28, 28)\n",
      "(1872, 28, 28)\n",
      "(1872, 28, 28)\n"
     ]
    }
   ],
   "source": [
    "test_dataset = []\n",
    "num = 0\n",
    "for file in test_datasets:\n",
    "  f = open(file,\"rb\")\n",
    "  dataset = pickle.load(f)\n",
    "  num = num +1\n",
    "  test_dataset.append(dataset)\n",
    "  print(dataset.shape)\n",
    "\n",
    "\n",
    "## split train dataset to get validation set\n",
    "train_labels = []\n",
    "test_labels = []\n",
    "for label in range(len(train_datasets)):\n",
    "  for i in range(10000):\n",
    "    train_labels.append(label) \n",
    "    \n",
    "for label in range(len(test_datasets)):\n",
    "  for i in range(test_dataset[label].shape[0]):\n",
    "    test_labels.append(label) \n",
    "    "
   ]
  },
  {
   "cell_type": "code",
   "execution_count": 6,
   "metadata": {
    "collapsed": false
   },
   "outputs": [
    {
     "data": {
      "text/plain": [
       "(18724, 28, 28)"
      ]
     },
     "execution_count": 6,
     "metadata": {},
     "output_type": "execute_result"
    }
   ],
   "source": [
    "temp = []\n",
    "for i in range(10):\n",
    "  for j in range(train_dataset[i].shape[0]):\n",
    "    temp.append(train_dataset[i][j])\n",
    "\n",
    "train_dataset, temp = temp, train_dataset\n",
    "\n",
    "temp = []\n",
    "for i in range(10):\n",
    "  for j in range(test_dataset[i].shape[0]):\n",
    "    temp.append(test_dataset[i][j])\n",
    "\n",
    "test_dataset, temp = temp, test_dataset\n",
    "\n",
    "test_dataset = np.array(test_dataset)\n",
    "test_dataset.shape"
   ]
  },
  {
   "cell_type": "code",
   "execution_count": 8,
   "metadata": {
    "collapsed": true
   },
   "outputs": [],
   "source": [
    "train_labels = np.array(train_labels)\n",
    "test_labels = np.array(test_labels)\n",
    "train_dataset = np.array(train_dataset)\n",
    "test_dataset = np.array(test_dataset)"
   ]
  },
  {
   "cell_type": "code",
   "execution_count": 9,
   "metadata": {
    "collapsed": true
   },
   "outputs": [],
   "source": [
    "train_dataset = train_dataset.reshape((-1,784))\n",
    "test_dataset = test_dataset.reshape((-1,784))"
   ]
  },
  {
   "cell_type": "code",
   "execution_count": 10,
   "metadata": {
    "collapsed": false
   },
   "outputs": [],
   "source": [
    "trainData, validData, trainLabels, validLabels = train_test_split(train_dataset, train_labels, test_size = 0.1)"
   ]
  },
  {
   "cell_type": "code",
   "execution_count": 11,
   "metadata": {
    "collapsed": false
   },
   "outputs": [],
   "source": [
    "## function for one-hot encoding\n",
    "num_labels = 10\n",
    "def reformat(labels):\n",
    "  labels = (np.arange(num_labels) == labels[:,None]).astype(np.float32)\n",
    "  return labels\n",
    "trainLabels = reformat(trainLabels)\n",
    "validLabels = reformat(validLabels)\n",
    "test_labels = reformat(test_labels)"
   ]
  },
  {
   "cell_type": "code",
   "execution_count": 12,
   "metadata": {
    "collapsed": false
   },
   "outputs": [
    {
     "name": "stdout",
     "output_type": "stream",
     "text": [
      "(90000, 784) (90000, 10)\n",
      "(10000, 784) (10000, 10)\n",
      "(18724, 784) (18724, 10)\n"
     ]
    }
   ],
   "source": [
    "## final check of shape of dataset\n",
    "print(trainData.shape, trainLabels.shape)\n",
    "print(validData.shape, validLabels.shape)\n",
    "print(test_dataset.shape, test_labels.shape)"
   ]
  },
  {
   "cell_type": "code",
   "execution_count": 13,
   "metadata": {
    "collapsed": true
   },
   "outputs": [],
   "source": [
    "# With gradient descent training, even this much data is prohibitive.\n",
    "# Subset the training data for faster turnaround.\n",
    "train_subset = 1000\n",
    "image_size = 28\n",
    "\n",
    "graph = tf.Graph()\n",
    "with graph.as_default():\n",
    "\n",
    "  # Input data.\n",
    "  # Load the training, validation and test data into constants that are\n",
    "  # attached to the graph.\n",
    "  tf_train_dataset = tf.constant(trainData[:train_subset, :])\n",
    "  tf_train_labels = tf.constant(trainLabels[:train_subset])\n",
    "  tf_valid_dataset = tf.constant(validData)\n",
    "  tf_test_dataset = tf.constant(test_dataset)\n",
    "  \n",
    "  # Variables.\n",
    "  # These are the parameters that we are going to be training. The weight\n",
    "  # matrix will be initialized using random values following a (truncated)\n",
    "  # normal distribution. The biases get initialized to zero.\n",
    "  weights = tf.Variable(\n",
    "    tf.truncated_normal([image_size * image_size, num_labels]))\n",
    "  biases = tf.Variable(tf.zeros([num_labels]))\n",
    "  \n",
    "  # Training computation.\n",
    "  # We multiply the inputs with the weight matrix, and add biases. We compute\n",
    "  # the softmax and cross-entropy (it's one operation in TensorFlow, because\n",
    "  # it's very common, and it can be optimized). We take the average of this\n",
    "  # cross-entropy across all training examples: that's our loss.\n",
    "  logits = tf.matmul(tf_train_dataset, weights) + biases\n",
    "  loss = tf.reduce_mean(\n",
    "    tf.nn.softmax_cross_entropy_with_logits(labels=tf_train_labels, logits=logits))\n",
    "  \n",
    "  # Optimizer.\n",
    "  # We are going to find the minimum of this loss using gradient descent.\n",
    "  optimizer = tf.train.GradientDescentOptimizer(0.5).minimize(loss)\n",
    "  \n",
    "  # Predictions for the training, validation, and test data.\n",
    "  # These are not part of training, but merely here so that we can report\n",
    "  # accuracy figures as we train.\n",
    "  train_prediction = tf.nn.softmax(logits)\n",
    "  valid_prediction = tf.nn.softmax(\n",
    "    tf.matmul(tf_valid_dataset, weights) + biases)\n",
    "  test_prediction = tf.nn.softmax(tf.matmul(tf_test_dataset, weights) + biases)"
   ]
  },
  {
   "cell_type": "code",
   "execution_count": 15,
   "metadata": {
    "collapsed": false
   },
   "outputs": [
    {
     "name": "stdout",
     "output_type": "stream",
     "text": [
      "Initialized\n",
      "Loss at step 0: 19.594343\n",
      "Training accuracy: 8.4%\n",
      "Validation accuracy: 12.1%\n",
      "Loss at step 100: 1.581522\n",
      "Training accuracy: 76.5%\n",
      "Validation accuracy: 66.5%\n",
      "Loss at step 200: 0.862522\n",
      "Training accuracy: 83.5%\n",
      "Validation accuracy: 67.6%\n",
      "Loss at step 300: 0.503483\n",
      "Training accuracy: 88.4%\n",
      "Validation accuracy: 67.6%\n",
      "Loss at step 400: 0.309167\n",
      "Training accuracy: 93.4%\n",
      "Validation accuracy: 67.6%\n",
      "Loss at step 500: 0.204319\n",
      "Training accuracy: 97.1%\n",
      "Validation accuracy: 67.8%\n",
      "Loss at step 600: 0.146053\n",
      "Training accuracy: 97.8%\n",
      "Validation accuracy: 68.0%\n",
      "Loss at step 700: 0.109719\n",
      "Training accuracy: 98.6%\n",
      "Validation accuracy: 68.3%\n",
      "Loss at step 800: 0.087396\n",
      "Training accuracy: 99.0%\n",
      "Validation accuracy: 68.5%\n",
      "Test accuracy: 77.4%\n"
     ]
    }
   ],
   "source": [
    "num_steps = 801\n",
    "\n",
    "def accuracy(predictions, labels):\n",
    "  return (100.0 * np.sum(np.argmax(predictions, 1) == np.argmax(labels, 1))\n",
    "          / predictions.shape[0])\n",
    "\n",
    "with tf.Session(graph=graph) as session:\n",
    "  # This is a one-time operation which ensures the parameters get initialized as\n",
    "  # we described in the graph: random weights for the matrix, zeros for the\n",
    "  # biases. \n",
    "  tf.global_variables_initializer().run()\n",
    "  print('Initialized')\n",
    "  for step in range(num_steps):\n",
    "    # Run the computations. We tell .run() that we want to run the optimizer,\n",
    "    # and get the loss value and the training predictions returned as numpy\n",
    "    # arrays.\n",
    "    _, l, predictions = session.run([optimizer, loss, train_prediction])\n",
    "    if (step % 100 == 0):\n",
    "      print('Loss at step %d: %f' % (step, l))\n",
    "      print('Training accuracy: %.1f%%' % accuracy(\n",
    "        predictions, trainLabels[:train_subset, :]))\n",
    "      # Calling .eval() on valid_prediction is basically like calling run(), but\n",
    "      # just to get that one numpy array. Note that it recomputes all its graph\n",
    "      # dependencies.\n",
    "      print('Validation accuracy: %.1f%%' % accuracy(\n",
    "        valid_prediction.eval(), validLabels))\n",
    "  print('Test accuracy: %.1f%%' % accuracy(test_prediction.eval(), test_labels))"
   ]
  },
  {
   "cell_type": "code",
   "execution_count": 16,
   "metadata": {
    "collapsed": true
   },
   "outputs": [],
   "source": [
    "batch_size = 128\n",
    "\n",
    "graph = tf.Graph()\n",
    "with graph.as_default():\n",
    "\n",
    "  # Input data. For the training data, we use a placeholder that will be fed\n",
    "  # at run time with a training minibatch.\n",
    "  tf_train_dataset = tf.placeholder(tf.float32,\n",
    "                                    shape=(batch_size, image_size * image_size))\n",
    "  tf_train_labels = tf.placeholder(tf.float32, shape=(batch_size, num_labels))\n",
    "  tf_valid_dataset = tf.constant(validData)\n",
    "  tf_test_dataset = tf.constant(test_dataset)\n",
    "  \n",
    "  # Variables.\n",
    "  weights = tf.Variable(\n",
    "    tf.truncated_normal([image_size * image_size, num_labels]))\n",
    "  biases = tf.Variable(tf.zeros([num_labels]))\n",
    "  \n",
    "  # Training computation.\n",
    "  logits = tf.matmul(tf_train_dataset, weights) + biases\n",
    "  loss = tf.reduce_mean(\n",
    "    tf.nn.softmax_cross_entropy_with_logits(labels=tf_train_labels, logits=logits))\n",
    "  \n",
    "  # Optimizer.\n",
    "  optimizer = tf.train.GradientDescentOptimizer(0.5).minimize(loss)\n",
    "  \n",
    "  # Predictions for the training, validation, and test data.\n",
    "  train_prediction = tf.nn.softmax(logits)\n",
    "  valid_prediction = tf.nn.softmax(\n",
    "    tf.matmul(tf_valid_dataset, weights) + biases)\n",
    "  test_prediction = tf.nn.softmax(tf.matmul(tf_test_dataset, weights) + biases)"
   ]
  },
  {
   "cell_type": "code",
   "execution_count": 19,
   "metadata": {
    "collapsed": false
   },
   "outputs": [
    {
     "name": "stdout",
     "output_type": "stream",
     "text": [
      "Initialized\n",
      "Minibatch loss at step 0: 23.252291\n",
      "Minibatch accuracy: 3.1%\n",
      "Validation accuracy: 11.7%\n",
      "Minibatch loss at step 500: 1.431617\n",
      "Minibatch accuracy: 75.8%\n",
      "Validation accuracy: 74.7%\n",
      "Minibatch loss at step 1000: 1.319434\n",
      "Minibatch accuracy: 76.6%\n",
      "Validation accuracy: 76.4%\n",
      "Minibatch loss at step 1500: 1.054531\n",
      "Minibatch accuracy: 77.3%\n",
      "Validation accuracy: 77.0%\n",
      "Minibatch loss at step 2000: 1.377252\n",
      "Minibatch accuracy: 72.7%\n",
      "Validation accuracy: 77.1%\n",
      "Minibatch loss at step 2500: 1.084431\n",
      "Minibatch accuracy: 75.0%\n",
      "Validation accuracy: 78.0%\n",
      "Minibatch loss at step 3000: 0.827081\n",
      "Minibatch accuracy: 81.2%\n",
      "Validation accuracy: 78.7%\n",
      "Test accuracy: 86.0%\n"
     ]
    }
   ],
   "source": [
    "num_steps = 3001\n",
    "\n",
    "with tf.Session(graph=graph) as session:\n",
    "  tf.global_variables_initializer().run()\n",
    "  print(\"Initialized\")\n",
    "  for step in range(num_steps):\n",
    "    # Pick an offset within the training data, which has been randomized.\n",
    "    # Note: we could use better randomization across epochs.\n",
    "    offset = (step * batch_size) % (trainLabels.shape[0] - batch_size)\n",
    "    # Generate a minibatch.\n",
    "    batch_data = trainData[offset:(offset + batch_size), :]\n",
    "    batch_labels = trainLabels[offset:(offset + batch_size), :]\n",
    "    # Prepare a dictionary telling the session where to feed the minibatch.\n",
    "    # The key of the dictionary is the placeholder node of the graph to be fed,\n",
    "    # and the value is the numpy array to feed to it.\n",
    "    feed_dict = {tf_train_dataset : batch_data, tf_train_labels : batch_labels}\n",
    "    _, l, predictions = session.run(\n",
    "      [optimizer, loss, train_prediction], feed_dict=feed_dict)\n",
    "    if (step % 500 == 0):\n",
    "      print(\"Minibatch loss at step %d: %f\" % (step, l))\n",
    "      print(\"Minibatch accuracy: %.1f%%\" % accuracy(predictions, batch_labels))\n",
    "      print(\"Validation accuracy: %.1f%%\" % accuracy(\n",
    "        valid_prediction.eval(), validLabels))\n",
    "  print(\"Test accuracy: %.1f%%\" % accuracy(test_prediction.eval(), test_labels))"
   ]
  },
  {
   "cell_type": "code",
   "execution_count": 26,
   "metadata": {
    "collapsed": false
   },
   "outputs": [],
   "source": [
    "## adding a hidden layer to SGD implementation\n",
    "\n",
    "batch_size = 128\n",
    "h1_size = 1024\n",
    "\n",
    "def layerfunc(x,weights,biases):\n",
    "  layer_1 = tf.add(tf.matmul(x,weights['h1']),biases['h1'])\n",
    "  layer_1 = tf.nn.relu(layer_1)\n",
    "  logits = tf.matmul(layer_1, weights['out']) + biases['out']\n",
    "  return logits\n",
    "\n",
    "graph = tf.Graph()\n",
    "with graph.as_default():\n",
    "\n",
    "  # Input data. For the training data, we use a placeholder that will be fed\n",
    "  # at run time with a training minibatch.\n",
    "  tf_train_dataset = tf.placeholder(tf.float32,\n",
    "                                    shape=(batch_size, image_size * image_size))\n",
    "  tf_train_labels = tf.placeholder(tf.float32, shape=(batch_size, num_labels))\n",
    "  tf_valid_dataset = tf.constant(validData)\n",
    "  tf_test_dataset = tf.constant(test_dataset)\n",
    "  \n",
    "  # Variables.\n",
    "  #weights = tf.Variable(\n",
    "  #  tf.truncated_normal([image_size * image_size, num_labels]))\n",
    "  #biases = tf.Variable(tf.zeros([num_labels]))\n",
    "  weights = {\n",
    "    'h1' : tf.Variable(tf.truncated_normal([image_size * image_size, h1_size])),\n",
    "    'out' : tf.Variable(tf.truncated_normal([h1_size,num_labels]))\n",
    "  }\n",
    "  biases = {\n",
    "    'h1' : tf.Variable(tf.zeros([h1_size])),\n",
    "    'out' : tf.Variable(tf.zeros([num_labels]))\n",
    "  }\n",
    "  \n",
    "  # Training computation.\n",
    "  #logits = tf.matmul(tf_train_dataset, weights) + biases\n",
    "  logits = layerfunc(tf_train_dataset,weights,biases)\n",
    "  loss = tf.reduce_mean(\n",
    "    tf.nn.softmax_cross_entropy_with_logits(labels=tf_train_labels, logits=logits))\n",
    "  \n",
    "  # Optimizer.\n",
    "  optimizer = tf.train.GradientDescentOptimizer(0.5).minimize(loss)\n",
    "  \n",
    "  # Predictions for the training, validation, and test data.\n",
    "  train_prediction = tf.nn.softmax(logits)\n",
    "  valid_prediction = tf.nn.softmax(layerfunc(tf_valid_dataset,weights,biases))\n",
    "  test_prediction = tf.nn.softmax(layerfunc(tf_test_dataset,weights,biases))"
   ]
  },
  {
   "cell_type": "code",
   "execution_count": 27,
   "metadata": {
    "collapsed": false
   },
   "outputs": [
    {
     "name": "stdout",
     "output_type": "stream",
     "text": [
      "Initialized\n",
      "Minibatch loss at step 0: 333.228333\n",
      "Minibatch accuracy: 7.0%\n",
      "Validation accuracy: 24.9%\n",
      "Minibatch loss at step 500: 13.078899\n",
      "Minibatch accuracy: 79.7%\n",
      "Validation accuracy: 81.5%\n",
      "Minibatch loss at step 1000: 5.466528\n",
      "Minibatch accuracy: 84.4%\n",
      "Validation accuracy: 80.6%\n",
      "Minibatch loss at step 1500: 9.325289\n",
      "Minibatch accuracy: 85.2%\n",
      "Validation accuracy: 81.6%\n",
      "Minibatch loss at step 2000: 5.514383\n",
      "Minibatch accuracy: 85.9%\n",
      "Validation accuracy: 81.4%\n",
      "Minibatch loss at step 2500: 6.626647\n",
      "Minibatch accuracy: 87.5%\n",
      "Validation accuracy: 81.3%\n",
      "Minibatch loss at step 3000: 3.771474\n",
      "Minibatch accuracy: 89.1%\n",
      "Validation accuracy: 82.5%\n",
      "Test accuracy: 89.0%\n"
     ]
    }
   ],
   "source": [
    "num_steps = 3001\n",
    "\n",
    "with tf.Session(graph=graph) as session:\n",
    "  tf.global_variables_initializer().run()\n",
    "  print(\"Initialized\")\n",
    "  for step in range(num_steps):\n",
    "    # Pick an offset within the training data, which has been randomized.\n",
    "    # Note: we could use better randomization across epochs.\n",
    "    offset = (step * batch_size) % (trainLabels.shape[0] - batch_size)\n",
    "    # Generate a minibatch.\n",
    "    batch_data = trainData[offset:(offset + batch_size), :]\n",
    "    batch_labels = trainLabels[offset:(offset + batch_size), :]\n",
    "    # Prepare a dictionary telling the session where to feed the minibatch.\n",
    "    # The key of the dictionary is the placeholder node of the graph to be fed,\n",
    "    # and the value is the numpy array to feed to it.\n",
    "    feed_dict = {tf_train_dataset : batch_data, tf_train_labels : batch_labels}\n",
    "    _, l, predictions = session.run(\n",
    "      [optimizer, loss, train_prediction], feed_dict=feed_dict)\n",
    "    if (step % 500 == 0):\n",
    "      print(\"Minibatch loss at step %d: %f\" % (step, l))\n",
    "      print(\"Minibatch accuracy: %.1f%%\" % accuracy(predictions, batch_labels))\n",
    "      print(\"Validation accuracy: %.1f%%\" % accuracy(\n",
    "        valid_prediction.eval(), validLabels))\n",
    "  print(\"Test accuracy: %.1f%%\" % accuracy(test_prediction.eval(), test_labels))"
   ]
  },
  {
   "cell_type": "code",
   "execution_count": null,
   "metadata": {
    "collapsed": true
   },
   "outputs": [],
   "source": []
  }
 ],
 "metadata": {
  "kernelspec": {
   "display_name": "Python [Root]",
   "language": "python",
   "name": "Python [Root]"
  },
  "language_info": {
   "codemirror_mode": {
    "name": "ipython",
    "version": 2
   },
   "file_extension": ".py",
   "mimetype": "text/x-python",
   "name": "python",
   "nbconvert_exporter": "python",
   "pygments_lexer": "ipython2",
   "version": "2.7.12"
  }
 },
 "nbformat": 4,
 "nbformat_minor": 0
}
